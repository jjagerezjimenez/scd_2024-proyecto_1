{
 "cells": [
  {
   "cell_type": "code",
   "execution_count": 17,
   "metadata": {},
   "outputs": [],
   "source": [
    "def analizaFrecuencias(texto):\n",
    "    d=dict()\n",
    "    for a in texto:\n",
    "        if a in d:\n",
    "            d[a]=d[a]+1\n",
    "        else:\n",
    "            d[a]=1\n",
    "                \n",
    "    return d"
   ]
  },
  {
   "cell_type": "code",
   "execution_count": 18,
   "metadata": {},
   "outputs": [],
   "source": [
    "def test_analizaFrecuencias():\n",
    "    \n",
    "    d=analizaFrecuencias('a' * 10 + 'b' * 5 + 'c' * 7)\n",
    "    assert d['a']==10\n",
    "    assert d['b']==5\n",
    "    assert d['c']==7\n",
    "    \n",
    "    d=analizaFrecuencias('xyzxayzaaxx')\n",
    "    assert d['x']==4\n",
    "    assert d['y']==2\n",
    "    assert d['z']==2\n",
    "    assert d['a']==3\n",
    "    \n",
    "\n",
    "\n",
    "    "
   ]
  },
  {
   "cell_type": "code",
   "execution_count": 19,
   "metadata": {},
   "outputs": [],
   "source": [
    "test_analizaFrecuencias()"
   ]
  },
  {
   "cell_type": "code",
   "execution_count": 22,
   "metadata": {},
   "outputs": [],
   "source": [
    "def analizaFrecuencias_archivo(archivo):\n",
    "    with open(archivo, 'r', encoding='utf-8') as f:\n",
    "        contenido = f.read() #para leer el contenido del archivo (no es necesario usar argumento d para leer e; contenido completo)\n",
    "        d=analizaFrecuencias(contenido)\n",
    "    return d"
   ]
  },
  {
   "cell_type": "code",
   "execution_count": 23,
   "metadata": {},
   "outputs": [
    {
     "name": "stdout",
     "output_type": "stream",
     "text": [
      "{'a': 1, 'b': 2, 'c': 3, 'd': 4, 'e': 5, '\\n': 1, 'A': 5, 'B': 4, 'C': 3, 'D': 2, 'E': 1}\n"
     ]
    }
   ],
   "source": [
    "tabla_frecuencias = analizaFrecuencias_archivo('Ejemplo_tecto_1.txt')\n",
    "print(tabla_frecuencias)"
   ]
  }
 ],
 "metadata": {
  "kernelspec": {
   "display_name": "base",
   "language": "python",
   "name": "python3"
  },
  "language_info": {
   "codemirror_mode": {
    "name": "ipython",
    "version": 3
   },
   "file_extension": ".py",
   "mimetype": "text/x-python",
   "name": "python",
   "nbconvert_exporter": "python",
   "pygments_lexer": "ipython3",
   "version": "3.11.9"
  },
  "orig_nbformat": 4
 },
 "nbformat": 4,
 "nbformat_minor": 2
}
