{
 "cells": [
  {
   "cell_type": "code",
   "execution_count": 37,
   "metadata": {},
   "outputs": [],
   "source": [
    "def analizaFrecuencias(texto):\n",
    "    d=dict()\n",
    "    for a in texto:\n",
    "        if a in d:\n",
    "            d[a]=d[a]+1\n",
    "        else:\n",
    "            d[a]=1\n",
    "                \n",
    "    return d"
   ]
  },
  {
   "cell_type": "code",
   "execution_count": 38,
   "metadata": {},
   "outputs": [],
   "source": [
    "def test_analizaFrecuencias():\n",
    "    \n",
    "    d=analizaFrecuencias('a' * 10 + 'b' * 5 + 'c' * 7)\n",
    "    assert d['a']==10\n",
    "    assert d['b']==5\n",
    "    assert d['c']==7\n",
    "    \n",
    "    d=analizaFrecuencias('xyzxayzaaxx')\n",
    "    assert d['x']==4\n",
    "    assert d['y']==2\n",
    "    assert d['z']==2\n",
    "    assert d['a']==3\n",
    "    \n",
    "\n",
    "\n",
    "    "
   ]
  },
  {
   "cell_type": "code",
   "execution_count": 39,
   "metadata": {},
   "outputs": [],
   "source": [
    "test_analizaFrecuencias()"
   ]
  },
  {
   "cell_type": "code",
   "execution_count": 40,
   "metadata": {},
   "outputs": [],
   "source": [
    "def analizaFrecuencias_archivo(archivo):\n",
    "    with open(archivo, 'r', encoding=\"utf-8\") as f:\n",
    "        contenido = f.read() #para leer el contenido del archivo (no es necesario usar argumento d para leer e; contenido completo)\n",
    "        d=analizaFrecuencias(contenido)\n",
    "    return d"
   ]
  },
  {
   "cell_type": "code",
   "execution_count": 41,
   "metadata": {},
   "outputs": [
    {
     "name": "stdout",
     "output_type": "stream",
     "text": [
      "{'c': 24, 'a': 49, 'b': 27}\n"
     ]
    }
   ],
   "source": [
    "tabla_frecuencias = analizaFrecuencias_archivo('simbolos_generados_Obj2_2.txt')\n",
    "print(tabla_frecuencias)"
   ]
  }
 ],
 "metadata": {
  "kernelspec": {
   "display_name": "base",
   "language": "python",
   "name": "python3"
  },
  "language_info": {
   "codemirror_mode": {
    "name": "ipython",
    "version": 3
   },
   "file_extension": ".py",
   "mimetype": "text/x-python",
   "name": "python",
   "nbconvert_exporter": "python",
   "pygments_lexer": "ipython3",
   "version": "3.11.9"
  },
  "orig_nbformat": 4
 },
 "nbformat": 4,
 "nbformat_minor": 2
}
