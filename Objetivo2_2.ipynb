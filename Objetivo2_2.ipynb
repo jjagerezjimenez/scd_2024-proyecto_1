{
 "cells": [
  {
   "cell_type": "code",
   "execution_count": 28,
   "metadata": {},
   "outputs": [],
   "source": [
    "import random\n",
    "\n",
    "class FuenteDiscretaSinMemoria:\n",
    "    def __init__(self, simbolos_probabilidades):\n",
    "        \"\"\"\n",
    "        Inicializa la fuente discreta sin memoria con una tabla de símbolos y sus probabilidades.\n",
    "        :param simbolos_probabilidades: Diccionario donde la key es el símbolo y el valor es su probabilidad.\n",
    "        \"\"\"\n",
    "        self.simbolos = list(simbolos_probabilidades.keys())\n",
    "        self.probabilidades = list(simbolos_probabilidades.values())\n",
    "        \n",
    "    def generar_cadena(self, longitud):\n",
    "        \"\"\"\n",
    "        Genera una cadena de símbolos basada en las probabilidades definidas.\n",
    "        :param longitud: Longitud de la cadena a generar.\n",
    "        :return: Cadena generada de símbolos.\n",
    "        \"\"\"\n",
    "        cadena = ''.join(random.choices(self.simbolos, weights=self.probabilidades, k=longitud))\n",
    "        return cadena    "
   ]
  },
  {
   "cell_type": "code",
   "execution_count": 30,
   "metadata": {},
   "outputs": [],
   "source": [
    "def test_FuenteDiscretaSinMemoria():\n",
    "    # Prueba de generación de cadena con probabilidades definidas\n",
    "    simbolos_probabilidades = {'a': 0.5, 'b': 0.3, 'c': 0.2}\n",
    "    fuente = FuenteDiscretaSinMemoria(simbolos_probabilidades)\n",
    "    \n",
    "    cadena = fuente.generar_cadena(100)\n",
    "    # Comprobamos que la longitud de la cadena es correcta\n",
    "    assert len(cadena) == 100\n",
    "    # Comprobamos que los símbolos generados están en la tabla de símbolos\n",
    "    assert all(s in simbolos_probabilidades for s in cadena)\n",
    "    # Guardar la cadena generada en un archivo de texto\n",
    "    with open('simbolos_generados_Obj2_2.txt', 'w', encoding='utf-8') as f:\n",
    "        f.write(cadena)\n",
    "    \n",
    "    print(\"Cadena generada guardada en 'simbolos_generados_Obj2_2.txt'.\")"
   ]
  },
  {
   "cell_type": "code",
   "execution_count": 31,
   "metadata": {},
   "outputs": [
    {
     "name": "stdout",
     "output_type": "stream",
     "text": [
      "Cadena generada guardada en 'simbolos_generados_Obj2_2.txt'.\n"
     ]
    }
   ],
   "source": [
    "test_FuenteDiscretaSinMemoria()"
   ]
  }
 ],
 "metadata": {
  "kernelspec": {
   "display_name": "Python 3",
   "language": "python",
   "name": "python3"
  },
  "language_info": {
   "codemirror_mode": {
    "name": "ipython",
    "version": 3
   },
   "file_extension": ".py",
   "mimetype": "text/x-python",
   "name": "python",
   "nbconvert_exporter": "python",
   "pygments_lexer": "ipython3",
   "version": "3.11.9"
  }
 },
 "nbformat": 4,
 "nbformat_minor": 2
}
