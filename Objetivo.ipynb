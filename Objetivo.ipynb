{
 "cells": [
  {
   "cell_type": "code",
   "execution_count": 31,
   "metadata": {},
   "outputs": [],
   "source": [
    "import random\n",
    "import heapq\n",
    "import math"
   ]
  },
  {
   "cell_type": "code",
   "execution_count": 32,
   "metadata": {},
   "outputs": [],
   "source": [
    "# Clase para generar una fuente discreta sin memoria basada en símbolos y probabilidades dados\n",
    "class FuenteDiscretaSinMemoria:\n",
    "    def __init__(self, simbolos_probabilidades):\n",
    "        self.simbolos = list(simbolos_probabilidades.keys())  # Lista de símbolos\n",
    "        self.probabilidades = list(simbolos_probabilidades.values())  # Probabilidades asociadas a los símbolos\n",
    "        \n",
    "    def generar_cadena(self, longitud):\n",
    "        # Genera una cadena de símbolos de la longitud especificada, según las probabilidades dadas\n",
    "        cadena = ''.join(random.choices(self.simbolos, weights=self.probabilidades, k=longitud))\n",
    "        return cadena "
   ]
  },
  {
   "cell_type": "code",
   "execution_count": 33,
   "metadata": {},
   "outputs": [],
   "source": [
    "# Función para analizar las frecuencias de los símbolos en un texto\n",
    "def analizaFrecuencias(texto):\n",
    "    d = {}\n",
    "    for a in texto:\n",
    "        if a in d:\n",
    "            d[a] += 1  # Incrementa la frecuencia del símbolo si ya existe en el diccionario\n",
    "        else:\n",
    "            d[a] = 1  # Si no existe, inicializa su frecuencia en 1\n",
    "    return d"
   ]
  },
  {
   "cell_type": "code",
   "execution_count": 34,
   "metadata": {},
   "outputs": [],
   "source": [
    "# Función auxiliar que toma los dos nodos con las frecuencias más bajas y los combina en un nuevo nodo\n",
    "def minimosANodo(lista):\n",
    "    min1 = heapq.heappop(lista)  # Extrae el nodo con la frecuencia mínima\n",
    "    min2 = heapq.heappop(lista)  # Extrae el segundo nodo con la frecuencia mínima\n",
    "    heapq.heappush(lista, (min1[0] + min2[0], min1[1], (min1[2], min2[2])))  # Inserta el nuevo nodo combinado en la lista"
   ]
  },
  {
   "cell_type": "code",
   "execution_count": 35,
   "metadata": {},
   "outputs": [],
   "source": [
    "# Función para generar el árbol de Huffman dado un diccionario de frecuencias\n",
    "def Hacer_arbol_huff(tabla):\n",
    "    lista = [(p, k, (s,)) for k, (s, p) in enumerate(tabla.items())]  # Convierte la tabla de frecuencias a una lista de tuplas\n",
    "    heapq.heapify(lista)  # Convierte la lista a una heap (cola de prioridad)\n",
    "    while len(lista) > 1:\n",
    "        minimosANodo(lista)  # Combina los dos nodos de menor frecuencia hasta que solo quede uno\n",
    "    return lista[0][2]  # Devuelve el árbol generado"
   ]
  },
  {
   "cell_type": "code",
   "execution_count": 36,
   "metadata": {},
   "outputs": [],
   "source": [
    "# Función para generar el código binario de Huffman a partir del árbol\n",
    "def Hacer_codigo(arbol, prefijo=\"\"):\n",
    "    match len(arbol):\n",
    "        case 1:\n",
    "            return {arbol[0]: prefijo}  # Caso base: si el nodo es una hoja, asigna el prefijo actual como código\n",
    "        case 2:\n",
    "            # Caso recursivo: genera los códigos de los subárboles izquierdo y derecho con prefijos \"0\" y \"1\" respectivamente\n",
    "            return Hacer_codigo(arbol[0], prefijo + \"0\") | Hacer_codigo(arbol[1], prefijo + \"1\")"
   ]
  },
  {
   "cell_type": "code",
   "execution_count": 37,
   "metadata": {},
   "outputs": [],
   "source": [
    "# Función para guardar los códigos binarios generados en un archivo de texto\n",
    "def guardar_codigos_binarios(codigo, archivo_salida='codigos_binarios.txt'):\n",
    "    with open(archivo_salida, 'w', encoding='utf-8') as f:\n",
    "        for simbolo, codigo_binario in codigo.items():\n",
    "            f.write(f\"{simbolo}: {codigo_binario}\\n\")  # Escribe cada símbolo y su código binario correspondiente\n",
    "    print(f\"Códigos binarios guardados en '{archivo_salida}'.\")"
   ]
  },
  {
   "cell_type": "code",
   "execution_count": 38,
   "metadata": {},
   "outputs": [],
   "source": [
    "# Función para guardar el árbol de Huffman de manera visual en un archivo de texto, mostrando los códigos binarios\n",
    "\n",
    "def guardar_arbol_huffman(nodo, codigo=None, archivo_salida='arbol_huffman.txt', prefijo='', nivel=0):\n",
    "    \"\"\"\n",
    "    Guarda el árbol de Huffman en un formato visual en un archivo de texto, incluyendo los códigos binarios.\n",
    "    \n",
    "    :param nodo: Nodo actual del árbol (puede ser un símbolo o una tupla de nodos).\n",
    "    :param codigo: Diccionario de códigos binarios para cada símbolo.\n",
    "    :param archivo_salida: Nombre del archivo de salida.\n",
    "    :param prefijo: Prefijo actual ('0' o '1') para la visualización.\n",
    "    :param nivel: Nivel de profundidad actual del árbol.\n",
    "    \"\"\"\n",
    "    with open(archivo_salida, 'a', encoding='utf-8') as f:\n",
    "        if isinstance(nodo, tuple) and len(nodo) == 2:  # Nodo intermedio con dos subnodos, isinstance() es una función en Python que se utiliza para comprobar si un objeto pertenece a una clase o tipo de dato en particular.\n",
    "            # Nodo intermedio, sigue recursivamente\n",
    "            guardar_arbol_huffman(nodo[0], codigo, archivo_salida, prefijo + '0', nivel + 1)\n",
    "            f.write(f\"{'    ' * nivel}Nodo intermedio\\n\")  # Valor del nodo intermedio\n",
    "            guardar_arbol_huffman(nodo[1], codigo, archivo_salida, prefijo + '1', nivel + 1)\n",
    "        elif isinstance(nodo, tuple) and len(nodo) == 1:  # Nodo hoja\n",
    "            simbolo = nodo[0]\n",
    "            codigo_binario = codigo[simbolo] if codigo and simbolo in codigo else ''\n",
    "            f.write(f\"{'    ' * nivel}'{simbolo}' ({codigo_binario})\\n\")\n",
    "        else:  # Nodo único (es posible que no ocurra, pero se maneja por seguridad)\n",
    "            f.write(f\"{'    ' * nivel}'{nodo}'\\n\")"
   ]
  },
  {
   "cell_type": "code",
   "execution_count": 39,
   "metadata": {},
   "outputs": [],
   "source": [
    "# Clase para la codificación y decodificación usando el algoritmo de Huffman -- Controlar\n",
    "\n",
    "class Huffman:\n",
    "    def __init__(self, frecs: dict):\n",
    "        self.arbol = Hacer_arbol_huff(frecs)  # Genera el árbol de Huffman a partir de las frecuencias\n",
    "        self.codigo = Hacer_codigo(self.arbol)  # Genera los códigos de Huffman a partir del árbol\n",
    "        self.decodificacion = {v: k for k, v in self.codigo.items()}  # Crea diccionario inverso para decodificación\n",
    "\n",
    "    def codifica(self, texto: str) -> str:\n",
    "        # Codifica un texto usando los códigos de Huffman generados\n",
    "        return ''.join(self.codigo[char] for char in texto)\n",
    "\n",
    "    def decodifica(self, bits: str) -> str:\n",
    "        # Decodifica una cadena de bits usando los códigos de Huffman generados\n",
    "        resultado = []\n",
    "        buffer = \"\"             # acumula bits mientras se decodifica la cadena codificada, cuando hay una coincidencia, lee el simbolo y reinicia el buffer\n",
    "        for bit in bits:\n",
    "            buffer += bit\n",
    "            if buffer in self.decodificacion:\n",
    "                resultado.append(self.decodificacion[buffer])       # se utiliza para añadir un elemento (símbolo decodificado) al final de una lista\n",
    "                buffer = \"\"\n",
    "        return ''.join(resultado)"
   ]
  },
  {
   "cell_type": "code",
   "execution_count": 40,
   "metadata": {},
   "outputs": [],
   "source": [
    "def calcular_entropia(probabilidades):                      # Ver libro para formulas\n",
    "    return -sum(p * math.log2(p) for p in probabilidades if p > 0)"
   ]
  },
  {
   "cell_type": "code",
   "execution_count": 41,
   "metadata": {},
   "outputs": [],
   "source": [
    "# Función para evaluar el rendimiento del codificador Huffman -- VER ECUACIONES/RELACIONES EN LIBRO\n",
    "\n",
    "def evaluar_rendimiento(cadena_original, cadena_codificada, simbolos_probabilidades, huffman):\n",
    "    # Entropía de la fuente\n",
    "    entropia_fuente = calcular_entropia(list(simbolos_probabilidades.values()))\n",
    "    \n",
    "    # Tamaño de la cadena original (suponiendo 8 bits por carácter en UTF-8)\n",
    "\n",
    "    tamano_original = len(cadena_original) * 8      # probar\n",
    "    \n",
    "    # Tamaño de la cadena codificada (en bits)\n",
    "    tamano_codificado = len(cadena_codificada)\n",
    "    \n",
    "    # Tasa de compresión    -- Verificar\n",
    "\n",
    "    tasa_compresion = tamano_original / tamano_codificado\n",
    "    \n",
    "    print(f\"Entropía de la fuente: {entropia_fuente:.4f} bits/símbolo\")\n",
    "    print(f\"Tamaño original: {tamano_original} bits\")\n",
    "    print(f\"Tamaño codificado: {tamano_codificado} bits\")\n",
    "    print(f\"Tasa de compresión: {tasa_compresion:.4f}\")\n",
    "    \n",
    "    # Verificar si cumple con el Teorema de Codificación de Fuente, Ver ecuacion\n",
    "\n",
    "    longitud_media = sum(len(huffman.codigo[s]) * simbolos_probabilidades[s] for s in simbolos_probabilidades)\n",
    "    print(f\"Longitud media del código de Huffman: {longitud_media:.4f} bits/símbolo\")\n",
    "    \n",
    "    if longitud_media >= entropia_fuente:   #Apuntes\n",
    "        print(\"Cumple con el Teorema de Codificación de Fuente.\")\n",
    "    else:\n",
    "        print(\"No cumple con el Teorema de Codificación de Fuente.\")"
   ]
  },
  {
   "cell_type": "code",
   "execution_count": 42,
   "metadata": {},
   "outputs": [],
   "source": [
    "# Función principal que ejecuta el flujo del objetivo 2.4\n",
    "def ejecutar_objetivo_2_4():\n",
    "    # Leer el archivo y analizar las frecuencias de los símbolos\n",
    "    nombre_archivo = 'La_Divina_Comedia.txt'\n",
    "    with open(nombre_archivo, 'r', encoding='utf-8') as f:\n",
    "        texto = f.read()\n",
    "    \n",
    "    tabla_frecuencias = analizaFrecuencias(texto)\n",
    "    total_simbolos = sum(tabla_frecuencias.values())\n",
    "    simbolos_probabilidades = {simbolo: freq / total_simbolos for simbolo, freq in tabla_frecuencias.items()}\n",
    "    \n",
    "    # Crear la fuente discreta sin memoria\n",
    "    fuente = FuenteDiscretaSinMemoria(simbolos_probabilidades)\n",
    "    \n",
    "    # Generar una cadena de símbolos de 1000 caracteres\n",
    "    cadena_generada = fuente.generar_cadena(1000)\n",
    "    \n",
    "    # Crear el codificador Huffman basado en las frecuencias\n",
    "    huffman = Huffman(tabla_frecuencias)\n",
    "    \n",
    "    # Codificar la cadena generada\n",
    "    cadena_codificada = huffman.codifica(cadena_generada)\n",
    "    \n",
    "    # Evaluar el rendimiento del codificador\n",
    "    evaluar_rendimiento(cadena_generada, cadena_codificada, simbolos_probabilidades, huffman)\n",
    "  \n",
    "    # Guardar los códigos binarios generados\n",
    "    guardar_codigos_binarios(huffman.codigo)\n",
    "    \n",
    "    # Guardar el árbol de Huffman generado\n",
    "    guardar_arbol_huffman(huffman.arbol, codigo=huffman.codigo)"
   ]
  },
  {
   "cell_type": "code",
   "execution_count": 43,
   "metadata": {},
   "outputs": [
    {
     "name": "stdout",
     "output_type": "stream",
     "text": [
      "Entropía de la fuente: 4.4678 bits/símbolo\n",
      "Tamaño original: 8000 bits\n",
      "Tamaño codificado: 4422 bits\n",
      "Tasa de compresión: 1.8091\n",
      "Longitud media del código de Huffman: 4.5083 bits/símbolo\n",
      "Cumple con el Teorema de Codificación de Fuente.\n",
      "Códigos binarios guardados en 'codigos_binarios.txt'.\n"
     ]
    }
   ],
   "source": [
    "ejecutar_objetivo_2_4()"
   ]
  }
 ],
 "metadata": {
  "kernelspec": {
   "display_name": "Python 3",
   "language": "python",
   "name": "python3"
  },
  "language_info": {
   "codemirror_mode": {
    "name": "ipython",
    "version": 3
   },
   "file_extension": ".py",
   "mimetype": "text/x-python",
   "name": "python",
   "nbconvert_exporter": "python",
   "pygments_lexer": "ipython3",
   "version": "3.11.9"
  }
 },
 "nbformat": 4,
 "nbformat_minor": 2
}
