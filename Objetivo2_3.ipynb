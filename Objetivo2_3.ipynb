{
 "cells": [
  {
   "cell_type": "code",
   "execution_count": 100,
   "metadata": {},
   "outputs": [],
   "source": [
    "import random\n",
    "import heapq"
   ]
  },
  {
   "cell_type": "code",
   "execution_count": 101,
   "metadata": {},
   "outputs": [],
   "source": [
    "# Clase para generar una fuente discreta sin memoria basada en símbolos y probabilidades dados\n",
    "class FuenteDiscretaSinMemoria:\n",
    "    def __init__(self, simbolos_probabilidades):\n",
    "        self.simbolos = list(simbolos_probabilidades.keys())  # Lista de símbolos\n",
    "        self.probabilidades = list(simbolos_probabilidades.values())  # Probabilidades asociadas a los símbolos\n",
    "        \n",
    "    def generar_cadena(self, longitud):\n",
    "        # Genera una cadena de símbolos de la longitud especificada, según las probabilidades dadas\n",
    "        cadena = ''.join(random.choices(self.simbolos, weights=self.probabilidades, k=longitud))\n",
    "        return cadena "
   ]
  },
  {
   "cell_type": "code",
   "execution_count": 102,
   "metadata": {},
   "outputs": [],
   "source": [
    "# Función para analizar las frecuencias de los símbolos en un texto\n",
    "def analizaFrecuencias(texto):\n",
    "    d = {}\n",
    "    for a in texto:\n",
    "        if a in d:\n",
    "            d[a] += 1  # Incrementa la frecuencia del símbolo si ya existe en el diccionario\n",
    "        else:\n",
    "            d[a] = 1  # Si no existe, inicializa su frecuencia en 1\n",
    "    return d"
   ]
  },
  {
   "cell_type": "code",
   "execution_count": 103,
   "metadata": {},
   "outputs": [],
   "source": [
    "# Función auxiliar que toma los dos nodos con las frecuencias más bajas y los combina en un nuevo nodo\n",
    "def Comb_nodos_min(lista):\n",
    "    min1 = heapq.heappop(lista)  # Extrae el nodo con la frecuencia mínima\n",
    "    min2 = heapq.heappop(lista)  # Extrae el segundo nodo con la frecuencia mínima\n",
    "    heapq.heappush(lista, (min1[0] + min2[0], min1[1], (min1[2], min2[2])))  # Inserta el nuevo nodo combinado en la lista"
   ]
  },
  {
   "cell_type": "code",
   "execution_count": 104,
   "metadata": {},
   "outputs": [],
   "source": [
    "# Función para generar el árbol de Huffman dado un diccionario de frecuencias\n",
    "def Hacer_arbol_huff(tabla):\n",
    "    lista = [(p, k, (s,)) for k, (s, p) in enumerate(tabla.items())]  # Convierte la tabla de frecuencias a una lista de tuplas\n",
    "    heapq.heapify(lista)  # Convierte la lista a una heap (cola de prioridad)\n",
    "    while len(lista) > 1:\n",
    "        Comb_nodos_min(lista)  # Combina los dos nodos de menor frecuencia hasta que solo quede uno\n",
    "    return lista[0][2]  # Devuelve el árbol generado, accedo a la tercera posición (índice 2) del primer elemento de la lista (lista[0])."
   ]
  },
  {
   "cell_type": "code",
   "execution_count": 105,
   "metadata": {},
   "outputs": [],
   "source": [
    "# Función para generar el código binario de Huffman a partir del árbol\n",
    "def Hacer_codigo(arbol, prefijo=\"\"):\n",
    "    match len(arbol):\n",
    "        case 1:\n",
    "            return {arbol[0]: prefijo}  # Caso base: si el nodo es una hoja, asigna el prefijo actual como código\n",
    "        case 2:\n",
    "            # Caso recursivo: genera los códigos de los subárboles izquierdo y derecho con prefijos \"0\" y \"1\" respectivamente\n",
    "            return Hacer_codigo(arbol[0], prefijo + \"0\") | Hacer_codigo(arbol[1], prefijo + \"1\")"
   ]
  },
  {
   "cell_type": "code",
   "execution_count": 106,
   "metadata": {},
   "outputs": [],
   "source": [
    "# Función para guardar los códigos binarios generados en un archivo de texto\n",
    "def guardar_codigos_binarios(codigo, archivo_salida='codigos_binarios.txt'):\n",
    "    with open(archivo_salida, 'w', encoding='utf-8') as f:\n",
    "        for simbolo, codigo_binario in codigo.items():\n",
    "            f.write(f\"{simbolo}: {codigo_binario}\\n\")  # Escribe cada símbolo y su código binario correspondiente\n",
    "    print(f\"Códigos binarios guardados en '{archivo_salida}'.\")"
   ]
  },
  {
   "cell_type": "code",
   "execution_count": 107,
   "metadata": {},
   "outputs": [],
   "source": [
    "# Función para guardar el árbol de Huffman de manera visual en un archivo de texto, mostrando los códigos binarios -- controlar varios casos\n",
    "\n",
    "def guardar_arbol_huffman(nodo, codigo=None, archivo_salida='arbol_huffman.txt', prefijo='', nivel=0):\n",
    "    \"\"\"\n",
    "    Guarda el árbol de Huffman en un formato visual en un archivo de texto, incluyendo los códigos binarios.\n",
    "    \n",
    "    :param nodo: Nodo actual del árbol (puede ser un símbolo o una tupla de nodos).\n",
    "    :param codigo: Diccionario de códigos binarios para cada símbolo.\n",
    "    :param archivo_salida: Nombre del archivo de salida.\n",
    "    :param prefijo: Prefijo actual ('0' o '1') para la visualización.\n",
    "    :param nivel: Nivel de profundidad actual del árbol.\n",
    "    \"\"\"\n",
    "    with open(archivo_salida, 'a', encoding='utf-8') as f:\n",
    "        if isinstance(nodo, tuple) and len(nodo) == 2:  # Nodo intermedio con dos subnodos, isinstance() es una función en Python que se utiliza para comprobar si un objeto pertenece a una clase o tipo de dato en particular.\n",
    "            # Nodo intermedio, sigue recursivamente\n",
    "            guardar_arbol_huffman(nodo[0], codigo, archivo_salida, prefijo + '0', nivel + 1)\n",
    "            f.write(f\"{'    ' * nivel}Nodo intermedio\\n\")  # Valor del nodo intermedio\n",
    "            guardar_arbol_huffman(nodo[1], codigo, archivo_salida, prefijo + '1', nivel + 1)\n",
    "        elif isinstance(nodo, tuple) and len(nodo) == 1:  # Nodo hoja\n",
    "            simbolo = nodo[0]\n",
    "            codigo_binario = codigo[simbolo] if codigo and simbolo in codigo else ''\n",
    "            f.write(f\"{'    ' * nivel}'{simbolo}' ({codigo_binario})\\n\")\n",
    "        else:  # Nodo único (es posible que no ocurra, pero se maneja por seguridad)\n",
    "            f.write(f\"{'    ' * nivel}'{nodo}'\\n\")"
   ]
  },
  {
   "cell_type": "code",
   "execution_count": 108,
   "metadata": {},
   "outputs": [],
   "source": [
    "# Clase para la codificación y decodificación usando el algoritmo de Huffman    -- Controlar\n",
    "class Huffman:\n",
    "    def __init__(self, frecs: dict):\n",
    "        self.arbol = Hacer_arbol_huff(frecs)  # Genera el árbol de Huffman a partir de las frecuencias\n",
    "        self.codigo = Hacer_codigo(self.arbol)  # Genera los códigos de Huffman a partir del árbol\n",
    "        self.decodificacion = {v: k for k, v in self.codigo.items()}  # Crea diccionario inverso para decodificación\n",
    "\n",
    "    def codifica(self, texto: str) -> str:\n",
    "        # Codifica un texto usando los códigos de Huffman generados\n",
    "        return ''.join(self.codigo[char] for char in texto)\n",
    "\n",
    "    def decodifica(self, bits: str) -> str:\n",
    "        # Decodifica una cadena de bits usando los códigos de Huffman generados\n",
    "        resultado = []\n",
    "        buffer = \"\"             # acumula bits mientras se decodifica la cadena codificada, cuando hay una coincidencia, lee el simbolo y reinicia el buffer\n",
    "        for bit in bits:\n",
    "            buffer += bit\n",
    "            if buffer in self.decodificacion:\n",
    "                resultado.append(self.decodificacion[buffer])       # se utiliza para añadir un elemento (símbolo decodificado) al final de una lista\n",
    "                buffer = \"\"\n",
    "        return ''.join(resultado)"
   ]
  },
  {
   "cell_type": "code",
   "execution_count": 109,
   "metadata": {},
   "outputs": [],
   "source": [
    "# Función de prueba para el algoritmo de Huffman\n",
    "def test_Huffman():\n",
    "    simbolos_probabilidades = {'a': 0.4, 'b': 0.1, 'c': 0.1, 'd': 0.1, 'e': 0.1, 'f': 0.2}\n",
    "    fuente = FuenteDiscretaSinMemoria(simbolos_probabilidades)\n",
    "    \n",
    "    cadena_generada = fuente.generar_cadena(1000)  \n",
    "    with open('simbolos_generados_Obj2_2.txt', 'w', encoding='utf-8') as f:\n",
    "        f.write(cadena_generada)\n",
    "    \n",
    "    tabla_frecuencias = analizaFrecuencias(cadena_generada)\n",
    "    print(tabla_frecuencias)\n",
    "\n",
    "    huffman = Huffman(tabla_frecuencias)\n",
    "    \n",
    "    guardar_codigos_binarios(huffman.codigo)\n",
    "\n",
    "    cadena_codificada = huffman.codifica(cadena_generada)\n",
    "    \n",
    "    with open('simbolos_codificados.txt', 'w', encoding='utf-8') as f:\n",
    "        f.write(cadena_codificada)\n",
    "\n",
    "    # Guardar el árbol de Huffman en un archivo de texto\n",
    "    guardar_arbol_huffman(huffman.arbol, codigo=huffman.codigo)\n",
    "\n",
    "    lAnterior = 0       # Ver -- se utiliza en para garantizar que los símbolos menos frecuentes deben tener códigos más largos que los más frecuentes.\n",
    "    for k, _ in sorted(tabla_frecuencias.items(), key=lambda x: x[1], reverse=True):\n",
    "        codK = huffman.codigo[k]\n",
    "        lK = len(codK)\n",
    "\n",
    "        assert all((b == '1' or b == '0' for b in codK)), \"El código es binario\"\n",
    "        assert lK >= lAnterior, \"Los símbolos menos frecuentes no pueden tener palabras más cortas que los más frecuentes\"\n",
    "        \n",
    "        lAnterior = lK\n",
    "        assert huffman.decodifica(codK) == k, \"El código es decodificable\"\n",
    "    \n",
    "    print(\"Prueba de Huffman completada exitosamente.\")"
   ]
  },
  {
   "cell_type": "code",
   "execution_count": 110,
   "metadata": {},
   "outputs": [
    {
     "name": "stdout",
     "output_type": "stream",
     "text": [
      "{'a': 390, 'c': 99, 'd': 95, 'f': 202, 'b': 90, 'e': 124}\n",
      "Códigos binarios guardados en 'codigos_binarios.txt'.\n",
      "Prueba de Huffman completada exitosamente.\n"
     ]
    }
   ],
   "source": [
    "test_Huffman()"
   ]
  }
 ],
 "metadata": {
  "kernelspec": {
   "display_name": "Python 3",
   "language": "python",
   "name": "python3"
  },
  "language_info": {
   "codemirror_mode": {
    "name": "ipython",
    "version": 3
   },
   "file_extension": ".py",
   "mimetype": "text/x-python",
   "name": "python",
   "nbconvert_exporter": "python",
   "pygments_lexer": "ipython3",
   "version": "3.11.9"
  }
 },
 "nbformat": 4,
 "nbformat_minor": 2
}
